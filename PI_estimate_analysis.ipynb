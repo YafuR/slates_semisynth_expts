{
 "cells": [
  {
   "cell_type": "code",
   "execution_count": 3,
   "id": "female-aspect",
   "metadata": {},
   "outputs": [],
   "source": [
    "import sys\n",
    "sys.path.append('/Users/wugaomin/MyDocument/NYUSpring2021/Tools_ML/Project/slates_semisynth_expts/')"
   ]
  },
  {
   "cell_type": "code",
   "execution_count": 4,
   "id": "furnished-attraction",
   "metadata": {},
   "outputs": [],
   "source": [
    "import numpy\n",
    "import GammaDP\n",
    "import scipy.linalg"
   ]
  },
  {
   "cell_type": "markdown",
   "id": "weekly-virus",
   "metadata": {},
   "source": [
    "A toy example of two slots with three documents for ranking"
   ]
  },
  {
   "cell_type": "code",
   "execution_count": 5,
   "id": "aging-warning",
   "metadata": {},
   "outputs": [],
   "source": [
    "m = 3\n",
    "l = 2\n",
    "num_candidates = m\n",
    "validDocs = l\n"
   ]
  },
  {
   "cell_type": "code",
   "execution_count": 6,
   "id": "casual-aberdeen",
   "metadata": {},
   "outputs": [],
   "source": [
    "# decay is equal to 0.0 as uniform target policy\n",
    "decay = 0.0\n",
    "multinomial=numpy.arange(1, num_candidates+1, dtype=numpy.float64)\n",
    "multinomial=numpy.exp2((-decay)*numpy.floor(numpy.log2(multinomial)))\n",
    "\n",
    "gamma=None\n",
    "gammaVals=GammaDP.GammaCalculator(multinomial.tolist(), validDocs)\n",
    "gamma=numpy.diag(numpy.ravel(gammaVals.unitMarginals))"
   ]
  },
  {
   "cell_type": "code",
   "execution_count": 7,
   "id": "radio-actress",
   "metadata": {},
   "outputs": [],
   "source": [
    "for p in range(validDocs):\n",
    "    for q in range(p+1, validDocs):\n",
    "        pairMarginals=gammaVals.pairwiseMarginals[(p,q)]\n",
    "        currentRowStart=p*num_candidates\n",
    "        currentRowEnd=(p+1)*num_candidates\n",
    "        currentColumnStart=q*num_candidates\n",
    "        currentColumnEnd=(q+1)*num_candidates\n",
    "        gamma[currentRowStart:currentRowEnd, currentColumnStart:currentColumnEnd]=pairMarginals\n",
    "        gamma[currentColumnStart:currentColumnEnd, currentRowStart:currentRowEnd]=pairMarginals.T"
   ]
  },
  {
   "cell_type": "code",
   "execution_count": 8,
   "id": "worldwide-government",
   "metadata": {},
   "outputs": [
    {
     "name": "stdout",
     "output_type": "stream",
     "text": [
      "For a uniform policy, choose from 3 docs: [0.33333333 0.33333333 0.33333333]\n"
     ]
    }
   ],
   "source": [
    "normalizer=numpy.sum(multinomial, dtype=numpy.longdouble)\n",
    "multinomial=multinomial/normalizer\n",
    "print(\"For a uniform policy, choose from 3 docs:\", multinomial)"
   ]
  },
  {
   "cell_type": "markdown",
   "id": "julian-senegal",
   "metadata": {},
   "source": [
    "gamma is $\\mathbb{E}_{\\mu}\\left[\\mathbf{1}_{\\mathbf{s}} \\mathbf{1}_{\\mathbf{s}}^{T} \\mid x\\right]$ in the paper."
   ]
  },
  {
   "cell_type": "code",
   "execution_count": 19,
   "id": "unlike-electronics",
   "metadata": {},
   "outputs": [
    {
     "name": "stdout",
     "output_type": "stream",
     "text": [
      "Unifrom policy gamma implemented from the paper\n",
      "[[0.33333333 0.         0.         0.         0.16666667 0.16666667]\n",
      " [0.         0.33333333 0.         0.16666667 0.         0.16666667]\n",
      " [0.         0.         0.33333333 0.16666667 0.16666667 0.        ]\n",
      " [0.         0.16666667 0.16666667 0.33333333 0.         0.        ]\n",
      " [0.16666667 0.         0.16666667 0.         0.33333333 0.        ]\n",
      " [0.16666667 0.16666667 0.         0.         0.         0.33333333]]\n"
     ]
    }
   ],
   "source": [
    "print(\"Unifrom policy gamma implemented from the paper\")\n",
    "print(gamma)"
   ]
  },
  {
   "cell_type": "code",
   "execution_count": 29,
   "id": "earned-mongolia",
   "metadata": {},
   "outputs": [],
   "source": [
    "# doc = 0, 1, 2\n",
    "tag = [(1,0),(0,1), (1,2),(2,1), (2,0),(0,2)]\n",
    "# all possible 6 slates \n",
    "l = [[0, 1, 0, 1, 0, 0], # (1,0)\n",
    "     [1, 0, 0, 0, 1, 0], # (0,1)\n",
    "     [0, 1, 0, 0, 0, 1], # (1,2)\n",
    "     [0, 0, 1, 0, 1, 0], # (2,1)\n",
    "     [0, 0, 1, 1, 0, 0], # (2,0)\n",
    "     [1, 0, 0, 0, 0, 1] # (0,2)\n",
    "    ]"
   ]
  },
  {
   "cell_type": "code",
   "execution_count": 18,
   "id": "coated-rochester",
   "metadata": {},
   "outputs": [
    {
     "name": "stdout",
     "output_type": "stream",
     "text": [
      "Unifrom policy gamma implemented from the equation\n",
      "[[0.33333333 0.         0.         0.         0.16666667 0.16666667]\n",
      " [0.         0.33333333 0.         0.16666667 0.         0.16666667]\n",
      " [0.         0.         0.33333333 0.16666667 0.16666667 0.        ]\n",
      " [0.         0.16666667 0.16666667 0.33333333 0.         0.        ]\n",
      " [0.16666667 0.         0.16666667 0.         0.33333333 0.        ]\n",
      " [0.16666667 0.16666667 0.         0.         0.         0.33333333]]\n"
     ]
    }
   ],
   "source": [
    "import numpy as np\n",
    "mat = 0\n",
    "for x in l:\n",
    "    x = np.array(x)\n",
    "    mat += np.dot(x.reshape(-1, 1), x.reshape(1, -1))\n",
    "print(\"Unifrom policy gamma implemented from the equation\")\n",
    "print((1/6.)*mat)"
   ]
  },
  {
   "cell_type": "markdown",
   "id": "informational-venezuela",
   "metadata": {},
   "source": [
    "How to interpret this: says if the 1_s start with 1, meaning the first slot choose a, then the frist slot choose b and c is 0.0 and 0.0.\n",
    "And the probability that the second slot choose a is also 0.0. "
   ]
  },
  {
   "cell_type": "code",
   "execution_count": 21,
   "id": "upper-triple",
   "metadata": {},
   "outputs": [
    {
     "name": "stdout",
     "output_type": "stream",
     "text": [
      "[[-3.6535891e+15 -3.6535891e+15 -3.6535891e+15  3.6535891e+15\n",
      "   3.6535891e+15  3.6535891e+15]\n",
      " [-3.6535891e+15 -3.6535891e+15 -3.6535891e+15  3.6535891e+15\n",
      "   3.6535891e+15  3.6535891e+15]\n",
      " [-3.6535891e+15 -3.6535891e+15 -3.6535891e+15  3.6535891e+15\n",
      "   3.6535891e+15  3.6535891e+15]\n",
      " [ 3.6535891e+15  3.6535891e+15  3.6535891e+15 -3.6535891e+15\n",
      "  -3.6535891e+15 -3.6535891e+15]\n",
      " [ 3.6535891e+15  3.6535891e+15  3.6535891e+15 -3.6535891e+15\n",
      "  -3.6535891e+15 -3.6535891e+15]\n",
      " [ 3.6535891e+15  3.6535891e+15  3.6535891e+15 -3.6535891e+15\n",
      "  -3.6535891e+15 -3.6535891e+15]]\n"
     ]
    }
   ],
   "source": [
    "gammaInv=scipy.linalg.pinv(gamma)\n",
    "print(gammaInv)"
   ]
  },
  {
   "cell_type": "markdown",
   "id": "coastal-universe",
   "metadata": {},
   "source": [
    "The inverse of a non-negative matrix is usually **not non-negative** (means it's usually have negative entries.). The exception is the non-negative monomial matrices: a non-negative matrix has non-negative inverse if and only if it is a (non-negative) monomial matrix. Note that thus the inverse of a positive matrix is not positive or even non-negative"
   ]
  },
  {
   "cell_type": "code",
   "execution_count": 31,
   "id": "floppy-leeds",
   "metadata": {},
   "outputs": [
    {
     "name": "stdout",
     "output_type": "stream",
     "text": [
      "[0 1 0 1 0 0]\n",
      "4.5\n",
      "[1 0 0 0 1 0]\n",
      "0.5\n",
      "[0 1 0 0 0 1]\n",
      "1.0\n",
      "[0 0 1 0 1 0]\n",
      "0.0\n",
      "[0 0 1 1 0 0]\n",
      "1.5\n",
      "[1 0 0 0 0 1]\n",
      "-1.5\n"
     ]
    }
   ],
   "source": [
    "# denominator is fixed\n",
    "posRelVector = numpy.array([0, 1, 0, 1, 0, 0])\n",
    "d = {}\n",
    "# what would happen if we change the nominator\n",
    "for idx, newSlateVector in enumerate(l):\n",
    "    newSlateVector = numpy.array(newSlateVector)\n",
    "    estimatedPhi=numpy.dot(gammaInv, posRelVector)\n",
    "#     new_cov = newSlateVector.reshape(-1,1) * (newSlateVector.reshape(-1,1).T)\n",
    "#     print(new_cov)\n",
    "#     print(gammaInv*posRelVector*newSlateVector)\n",
    "    \n",
    "    invPropensity=numpy.dot(estimatedPhi, newSlateVector)\n",
    "    key = tag[idx]\n",
    "    d[key] = invPropensity\n",
    "    print(newSlateVector)\n",
    "    print(invPropensity)"
   ]
  },
  {
   "cell_type": "markdown",
   "id": "coastal-rental",
   "metadata": {},
   "source": [
    "So make sense here, the inv Propensity can be zero."
   ]
  },
  {
   "cell_type": "code",
   "execution_count": 34,
   "id": "sustained-sport",
   "metadata": {},
   "outputs": [
    {
     "data": {
      "text/plain": [
       "1  0    4.5\n",
       "0  1    0.5\n",
       "1  2    1.0\n",
       "2  1    0.0\n",
       "   0    1.5\n",
       "0  2   -1.5\n",
       "dtype: float64"
      ]
     },
     "execution_count": 34,
     "metadata": {},
     "output_type": "execute_result"
    }
   ],
   "source": [
    "import pandas as pd\n",
    "pd.Series(d)"
   ]
  },
  {
   "cell_type": "markdown",
   "id": "significant-reflection",
   "metadata": {},
   "source": [
    "What if we do IPS here"
   ]
  },
  {
   "cell_type": "code",
   "execution_count": null,
   "id": "collectible-williams",
   "metadata": {},
   "outputs": [],
   "source": [
    "l = [[0, 1, 0, 1, 0, 0], # (1,0)\n",
    "     [1, 0, 0, 0, 1, 0], # (0,1)\n",
    "     [0, 1, 0, 0, 0, 1], # (1,2)\n",
    "     [0, 0, 1, 0, 1, 0], # (2,1)\n",
    "     [0, 0, 1, 1, 0, 0], # (2,0)\n",
    "     [1, 0, 0, 0, 0, 1] # (0,2)\n",
    "    ]\n"
   ]
  },
  {
   "cell_type": "code",
   "execution_count": 5,
   "id": "excessive-master",
   "metadata": {},
   "outputs": [],
   "source": [
    "m = 3\n",
    "l = 2\n",
    "num_candidates = m\n",
    "validDocs = l"
   ]
  },
  {
   "cell_type": "code",
   "execution_count": 26,
   "id": "angry-sample",
   "metadata": {},
   "outputs": [
    {
     "name": "stdout",
     "output_type": "stream",
     "text": [
      "[0, 1, 0, 1, 0, 0]\n",
      "6.0\n",
      "[1, 0, 0, 0, 1, 0]\n",
      "0.0\n",
      "[0, 1, 0, 0, 0, 1]\n",
      "0.0\n",
      "[0, 0, 1, 0, 1, 0]\n",
      "0.0\n",
      "[0, 0, 1, 1, 0, 0]\n",
      "0.0\n",
      "[1, 0, 0, 0, 0, 1]\n",
      "0.0\n"
     ]
    }
   ],
   "source": [
    "# denominator is fixed\n",
    "posRelVector = numpy.array([0, 1, 0, 1, 0, 0])\n",
    "\n",
    "# what would happen if we change the nominator\n",
    "for newSlateVector in l:\n",
    "    exactMatch=numpy.absolute(newSlateVector-posRelVector).sum() == 0\n",
    "    invPropensity=0.0\n",
    "    if exactMatch:\n",
    "        invPropensity=numpy.prod(range(num_candidates+1-validDocs, num_candidates+1), dtype=numpy.float64)\n",
    "        \n",
    "    print(newSlateVector)\n",
    "    print(invPropensity)"
   ]
  },
  {
   "cell_type": "code",
   "execution_count": null,
   "id": "focused-benchmark",
   "metadata": {},
   "outputs": [],
   "source": []
  }
 ],
 "metadata": {
  "kernelspec": {
   "display_name": "Python 3",
   "language": "python",
   "name": "python3"
  },
  "language_info": {
   "codemirror_mode": {
    "name": "ipython",
    "version": 3
   },
   "file_extension": ".py",
   "mimetype": "text/x-python",
   "name": "python",
   "nbconvert_exporter": "python",
   "pygments_lexer": "ipython3",
   "version": "3.8.8"
  }
 },
 "nbformat": 4,
 "nbformat_minor": 5
}
