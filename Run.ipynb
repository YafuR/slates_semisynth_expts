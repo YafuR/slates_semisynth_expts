{
 "cells": [
  {
   "cell_type": "markdown",
   "id": "cardiovascular-video",
   "metadata": {},
   "source": [
    "Uniform=1\n",
    "All_features=2\n",
    "Titlebody_features=3\n",
    "URL_features=4\n",
    "Anti_optimal=5\n",
    "(logging, target)"
   ]
  },
  {
   "cell_type": "markdown",
   "id": "coordinate-wireless",
   "metadata": {},
   "source": [
    "--- "
   ]
  },
  {
   "cell_type": "code",
   "execution_count": 37,
   "id": "deluxe-savage",
   "metadata": {},
   "outputs": [],
   "source": [
    "%%bash\n",
    "# (1,2) uniform logging, tree_all for target (optimal)\n",
    "# (1,3) uniform logging, tree_titlebody for target (suboptimal)\n",
    "# (1,4) uniform logging, tree_url for target (suboptimal)\n",
    "\n",
    "M=100\n",
    "L=10\n",
    "\n",
    "for metric in ERR NDCG\n",
    "do\n",
    "\tfor eval in tree\n",
    "\tdo\n",
    "\t\tfor ef in All body url\n",
    "\t\tdo\n",
    "            for approach in Mean OnPolicy IPS IPS_SN PI PI_SN \n",
    "            do\n",
    "                python Parallel.py -t 0 -ef ${ef} -m ${M} -l ${L} -v ${metric} -e ${eval} -a ${approach} --start 0 --stop 25 &> eval.log.${metric}.${M}.${L}.${eval}.${ef}.LogUniform.${approach} &\n",
    "            done\n",
    "\t\tdone\n",
    "        \n",
    "\tdone\n",
    "done"
   ]
  },
  {
   "cell_type": "code",
   "execution_count": 40,
   "id": "broad-darwin",
   "metadata": {},
   "outputs": [],
   "source": [
    "%%bash\n",
    "# (1,5) uniform logging, tree_all anti for target (anti suboptimal)\n",
    "\n",
    "M=100\n",
    "L=10\n",
    "ef=All\n",
    "anti=True\n",
    "\n",
    "for metric in ERR NDCG\n",
    "do\n",
    "\tfor eval in tree\n",
    "\tdo\n",
    "\t\tfor approach in Mean OnPolicy IPS IPS_SN PI PI_SN \n",
    "\t\tdo\n",
    "\t\t\tpython Parallel.py -t 0 -ea ${anti} -ef ${ef} -m ${M} -l ${L} -v ${metric} -e ${eval} -a ${approach} --start 0 --stop 25 &> eval.log.${metric}.${M}.${L}.${eval}.anti.LogUniform.${approach} &\n",
    "\t\tdone\n",
    "\tdone\n",
    "done"
   ]
  },
  {
   "cell_type": "code",
   "execution_count": 39,
   "id": "incorporate-identity",
   "metadata": {},
   "outputs": [],
   "source": [
    "%%bash\n",
    "# (2,2) tree_all (t=1) logging, tree_all for target (optimal)\n",
    "# (2,3) tree_all logging, tree_titlebody for target (suboptimal)\n",
    "# (2,4) tree_all logging, tree_url for target (suboptimal)\n",
    "# (3,2)(3,3)(3,4)\n",
    "# (4,2)(4,3)(4,4)\n",
    "\n",
    "M=100\n",
    "L=10\n",
    "\n",
    "for metric in ERR NDCG\n",
    "do\n",
    "\tfor eval in tree\n",
    "\tdo\n",
    "\t\tfor ef in All body url\n",
    "\t\tdo\n",
    "            for lf in All body url\n",
    "            do\n",
    "                for approach in Mean OnPolicy IPS IPS_SN PI PI_SN \n",
    "                do\n",
    "                    python Parallel.py -t 1 -lf ${lf} -ef ${ef} -m ${M} -l ${L} -v ${metric} -e ${eval} -a ${approach} --start 0 --stop 25 &> eval.log.${metric}.${M}.${L}.${eval}.${ef}.Log.${lf}.${approach} &\n",
    "                done\n",
    "            done\n",
    "\t\tdone\n",
    "        \n",
    "\tdone\n",
    "done"
   ]
  },
  {
   "cell_type": "code",
   "execution_count": null,
   "id": "known-expression",
   "metadata": {},
   "outputs": [],
   "source": []
  },
  {
   "cell_type": "code",
   "execution_count": 41,
   "id": "mighty-computer",
   "metadata": {},
   "outputs": [],
   "source": [
    "%%bash\n",
    "# (2,5) tree_all logging, tree_all anti for target (anti suboptimal)\n",
    "#(3,5)(4,5)\n",
    "M=100\n",
    "L=10\n",
    "ef=All\n",
    "anti=True\n",
    "\n",
    "for metric in ERR NDCG\n",
    "do\n",
    "\tfor eval in tree\n",
    "\tdo\n",
    "\t\tfor approach in Mean OnPolicy IPS IPS_SN PI PI_SN \n",
    "\t\tdo\n",
    "            for lf in All body url\n",
    "            do\n",
    "                python Parallel.py -t 1 -lf ${lf} -ea ${anti} -ef ${ef} -m ${M} -l ${L} -v ${metric} -e ${eval} -a ${approach} --start 0 --stop 25 &> eval.log.${metric}.${M}.${L}.${eval}.anti.Log.${lf}.${approach} &\n",
    "            done\n",
    "\t\tdone\n",
    "\tdone\n",
    "done"
   ]
  },
  {
   "cell_type": "code",
   "execution_count": 42,
   "id": "altered-garage",
   "metadata": {},
   "outputs": [],
   "source": [
    "%%bash\n",
    "# (5,2)(5,3)(5,4)\n",
    "\n",
    "M=100\n",
    "L=10\n",
    "\n",
    "for metric in ERR NDCG\n",
    "do\n",
    "\tfor eval in tree\n",
    "\tdo\n",
    "\t\tfor ef in All body url\n",
    "\t\tdo\n",
    "            for lf in All\n",
    "            do\n",
    "                for approach in Mean OnPolicy IPS IPS_SN PI PI_SN \n",
    "                do\n",
    "                    python Parallel.py -t 1 -lf ${lf} -la True -ef ${ef} -m ${M} -l ${L} -v ${metric} -e ${eval} -a ${approach} --start 0 --stop 25 &> eval.log.${metric}.${M}.${L}.${eval}.${ef}.Log.${lf}.anti.${approach} &\n",
    "                done\n",
    "            done\n",
    "\t\tdone\n",
    "        \n",
    "\tdone\n",
    "done"
   ]
  },
  {
   "cell_type": "code",
   "execution_count": 43,
   "id": "academic-grenada",
   "metadata": {},
   "outputs": [],
   "source": [
    "%%bash\n",
    "# (5,5) tree_all logging anti, tree_all anti for target (anti suboptimal)\n",
    "M=100\n",
    "L=10\n",
    "ef=All\n",
    "anti=True\n",
    "\n",
    "for metric in ERR NDCG\n",
    "do\n",
    "\tfor eval in tree\n",
    "\tdo\n",
    "\t\tfor approach in Mean OnPolicy IPS IPS_SN PI PI_SN \n",
    "\t\tdo\n",
    "            for lf in All\n",
    "            do\n",
    "                python Parallel.py -t 1 -lf ${lf} -la ${anti} -ea ${anti} -ef ${ef} -m ${M} -l ${L} -v ${metric} -e ${eval} -a ${approach} --start 0 --stop 25 &> eval.log.${metric}.${M}.${L}.${eval}.anti.Log.${lf}.anti.${approach} &\n",
    "            done\n",
    "\t\tdone\n",
    "\tdone\n",
    "done"
   ]
  },
  {
   "cell_type": "code",
   "execution_count": null,
   "id": "dramatic-clerk",
   "metadata": {},
   "outputs": [],
   "source": []
  },
  {
   "cell_type": "code",
   "execution_count": null,
   "id": "precious-feelings",
   "metadata": {},
   "outputs": [],
   "source": []
  },
  {
   "cell_type": "markdown",
   "id": "ongoing-driver",
   "metadata": {},
   "source": [
    "# DM"
   ]
  },
  {
   "cell_type": "markdown",
   "id": "operational-weekly",
   "metadata": {},
   "source": [
    "For my DM I need to use some other environment"
   ]
  },
  {
   "cell_type": "code",
   "execution_count": 15,
   "id": "6991d082-eb6a-4fd4-8fae-eddecee0d29b",
   "metadata": {},
   "outputs": [],
   "source": [
    "%%bash\n",
    "# (1,2) uniform logging, tree_all for target (optimal)\n",
    "# (1,3) uniform logging, tree_titlebody for target (suboptimal)\n",
    "# (1,4) uniform logging, tree_url for target (suboptimal)\n",
    "\n",
    "M=10\n",
    "L=5\n",
    "\n",
    "for metric in ERR\n",
    "do\n",
    "\tfor eval in tree\n",
    "\tdo\n",
    "\t\tfor ef in url\n",
    "\t\tdo\n",
    "            for approach in DM_tree    DM_ridge  \n",
    "            do\n",
    "                python Parallel.py -t 0 -ef ${ef} -m ${M} -l ${L} -v ${metric} -e ${eval} -a ${approach} --start 0 --stop 25 &> eval.log.${metric}.${M}.${L}.${eval}.${ef}.LogUniform.${approach} &\n",
    "            done\n",
    "\t\tdone\n",
    "        \n",
    "\tdone\n",
    "done"
   ]
  },
  {
   "cell_type": "code",
   "execution_count": 8,
   "id": "political-bangladesh",
   "metadata": {},
   "outputs": [],
   "source": [
    "%%bash\n",
    "# (1,2) uniform logging, tree_all for target (optimal)\n",
    "# (1,3) uniform logging, tree_titlebody for target (suboptimal)\n",
    "# (1,4) uniform logging, tree_url for target (suboptimal)\n",
    "\n",
    "M=100\n",
    "L=10\n",
    "\n",
    "for metric in ERR NDCG\n",
    "do\n",
    "\tfor eval in tree\n",
    "\tdo\n",
    "\t\tfor ef in All body url\n",
    "\t\tdo\n",
    "            for approach in DM_tree  DM_lasso  DMc_lasso  DM_ridge  DMc_ridge DM_50\n",
    "            do\n",
    "                python Parallel.py -t 0 -ef ${ef} -m ${M} -l ${L} -v ${metric} -e ${eval} -a ${approach} --start 0 --stop 25 &> eval.log.${metric}.${M}.${L}.${eval}.${ef}.LogUniform.${approach} &\n",
    "            done\n",
    "\t\tdone\n",
    "        \n",
    "\tdone\n",
    "done"
   ]
  },
  {
   "cell_type": "code",
   "execution_count": 3,
   "id": "instant-function",
   "metadata": {},
   "outputs": [],
   "source": [
    "%%bash\n",
    "# (1,5) uniform logging, tree_all anti for target (anti suboptimal)\n",
    "\n",
    "M=100\n",
    "L=10\n",
    "ef = all\n",
    "anti = True\n",
    "\n",
    "for metric in ERR NDCG\n",
    "do\n",
    "\tfor eval in tree\n",
    "\tdo\n",
    "\t\tfor approach in DM_tree  DM_lasso  DMc_lasso  DM_ridge  DMc_ridge DM_50\n",
    "\t\tdo\n",
    "\t\t\tpython Parallel.py -t 0 -ea ${anti} -ef ${ef} -m ${M} -l ${L} -v ${metric} -e ${eval} -a ${approach} --start 0 --stop 25 &> eval.log.${metric}.${M}.${L}.${eval}.anti.LogUniform.${approach} &\n",
    "\t\tdone\n",
    "\tdone\n",
    "done"
   ]
  },
  {
   "cell_type": "code",
   "execution_count": null,
   "id": "specific-reporter",
   "metadata": {},
   "outputs": [],
   "source": [
    "%%bash\n",
    "# (2,2) tree_all (t=1) logging, tree_all for target (optimal)\n",
    "# (2,3) tree_all logging, tree_titlebody for target (suboptimal)\n",
    "# (2,4) tree_all logging, tree_url for target (suboptimal)\n",
    "# (3,2)(3,3)(3,4)\n",
    "# (4,2)(4,3)(4,4)\n",
    "\n",
    "M=100\n",
    "L=10\n",
    "\n",
    "for metric in ERR NDCG\n",
    "do\n",
    "\tfor eval in tree\n",
    "\tdo\n",
    "\t\tfor ef in all body url\n",
    "\t\tdo\n",
    "            for lf in all body url\n",
    "            do\n",
    "                for approach in DM_tree  DM_lasso  DMc_lasso  DM_ridge  DMc_ridge DM_50\n",
    "                do\n",
    "                    python Parallel.py -t 1 -lf ${lf} -ef ${ef} -m ${M} -l ${L} -v ${metric} -e ${eval} -a ${approach} --start 0 --stop 25 &> eval.log.${metric}.${M}.${L}.${eval}.${ef}.Log.${lf}.${approach} &\n",
    "                done\n",
    "            done\n",
    "\t\tdone\n",
    "        \n",
    "\tdone\n",
    "done"
   ]
  },
  {
   "cell_type": "code",
   "execution_count": 3,
   "id": "communist-horror",
   "metadata": {},
   "outputs": [],
   "source": [
    "%%bash\n",
    "#(2,5) tree_all logging, tree_all anti for target (anti optimal)\n",
    "#(3,5)(4,5)\n",
    "\n",
    "M=100\n",
    "L=10\n",
    "ef = all\n",
    "anti = True\n",
    "\n",
    "for metric in ERR NDCG\n",
    "do\n",
    "\tfor eval in tree\n",
    "\tdo\n",
    "\t\tfor approach in DM_tree  DM_lasso  DMc_lasso  DM_ridge  DMc_ridge DM_50\n",
    "\t\tdo\n",
    "            for lf in all body url\n",
    "            do\n",
    "                python Parallel.py -t 1 -lf ${lf} -ea ${anti} -ef ${ef} -m ${M} -l ${L} -v ${metric} -e ${eval} -a ${approach} --start 0 --stop 25 &> eval.log.${metric}.${M}.${L}.${eval}.anti.Log.${lf}.${approach} &\n",
    "            done\n",
    "\t\tdone\n",
    "\tdone\n",
    "done"
   ]
  },
  {
   "cell_type": "code",
   "execution_count": null,
   "id": "structural-radio",
   "metadata": {},
   "outputs": [],
   "source": [
    "%%bash\n",
    "# (5,2)(5,3)(5,4)\n",
    "\n",
    "M=100\n",
    "L=10\n",
    "\n",
    "for metric in ERR NDCG\n",
    "do\n",
    "\tfor eval in tree\n",
    "\tdo\n",
    "\t\tfor ef in all body url\n",
    "\t\tdo\n",
    "            for lf in all\n",
    "            do\n",
    "                for approach in DM_tree  DM_lasso  DMc_lasso  DM_ridge  DMc_ridge DM_50\n",
    "                do\n",
    "                    python Parallel.py -t 1 -lf ${lf} -la True -ef ${ef} -m ${M} -l ${L} -v ${metric} -e ${eval} -a ${approach} --start 0 --stop 25 &> eval.log.${metric}.${M}.${L}.${eval}.${ef}.Log.${lf}.anti.${approach} &\n",
    "                done\n",
    "            done\n",
    "\t\tdone\n",
    "        \n",
    "\tdone\n",
    "done"
   ]
  },
  {
   "cell_type": "code",
   "execution_count": 3,
   "id": "sufficient-sarah",
   "metadata": {},
   "outputs": [],
   "source": [
    "%%bash\n",
    "# (5,5) tree_all logging anti, tree_all anti for target (anti optimal)\n",
    "\n",
    "M=100\n",
    "L=10\n",
    "ef = all\n",
    "anti = True\n",
    "\n",
    "for metric in ERR NDCG\n",
    "do\n",
    "\tfor eval in tree\n",
    "\tdo\n",
    "\t\tfor approach in DM_tree  DM_lasso  DMc_lasso  DM_ridge  DMc_ridge DM_50\n",
    "\t\tdo\n",
    "            for lf in all \n",
    "            do\n",
    "                python Parallel.py -t 1 -lf ${lf} -la True -ea ${anti} -ef ef -m ${M} -l ${L} -v ${metric} -e ${eval} -a ${approach} --start 0 --stop 25 &> eval.log.${metric}.${M}.${L}.${eval}.anti.Log.${lf}.anti.${approach} &\n",
    "            done\n",
    "\t\tdone\n",
    "\tdone\n",
    "done"
   ]
  },
  {
   "cell_type": "code",
   "execution_count": null,
   "id": "returning-estimate",
   "metadata": {},
   "outputs": [],
   "source": []
  },
  {
   "cell_type": "code",
   "execution_count": null,
   "id": "qualified-cradle",
   "metadata": {},
   "outputs": [],
   "source": []
  },
  {
   "cell_type": "code",
   "execution_count": null,
   "id": "special-labor",
   "metadata": {},
   "outputs": [],
   "source": []
  },
  {
   "cell_type": "code",
   "execution_count": null,
   "id": "cross-tucson",
   "metadata": {},
   "outputs": [],
   "source": []
  },
  {
   "cell_type": "code",
   "execution_count": null,
   "id": "satisfactory-concentrate",
   "metadata": {},
   "outputs": [],
   "source": []
  },
  {
   "cell_type": "code",
   "execution_count": 11,
   "id": "ordinary-exchange",
   "metadata": {},
   "outputs": [],
   "source": [
    "%%bash\n",
    "# uniform logging, tree_all for target (optimal)\n",
    "\n",
    "M=10\n",
    "L=5\n",
    "\n",
    "for metric in ERR \n",
    "do\n",
    "\tfor eval in tree\n",
    "\tdo\n",
    "\t\tfor approach in DM_ridge Mean OnPolicy\n",
    "\t\tdo\n",
    "\t\t\tpython Parallel.py -t 0 -ef \"all\" -m ${M} -l ${L} -v ${metric} -e ${eval} -a ${approach} --start 0 --stop 2 &> eval.log.${metric}.${M}.${L}.${eval}.LogUniform.notanti.${approach} &\n",
    "\t\tdone\n",
    "\tdone\n",
    "done"
   ]
  },
  {
   "cell_type": "code",
   "execution_count": 24,
   "id": "present-nightlife",
   "metadata": {},
   "outputs": [],
   "source": [
    "%%bash\n",
    "# uniform logging, tree_all for target (optimal)\n",
    "\n",
    "M=10\n",
    "L=5\n",
    "\n",
    "for metric in ERR \n",
    "do\n",
    "\tfor eval in tree\n",
    "\tdo\n",
    "\t\tfor approach in DM_ridge\n",
    "\t\tdo\n",
    "\t\t\tpython Parallel.py -t 0 -ef \"all\" -m ${M} -l ${L} -v ${metric} -e ${eval} -a ${approach} --start 0 --stop 2 &> eval.log.${metric}.${M}.${L}.${eval}.LogUniform.notanti.${approach} &\n",
    "\t\tdone\n",
    "\tdone\n",
    "done"
   ]
  },
  {
   "cell_type": "code",
   "execution_count": null,
   "id": "political-spanking",
   "metadata": {},
   "outputs": [],
   "source": []
  },
  {
   "cell_type": "code",
   "execution_count": 12,
   "id": "sufficient-friday",
   "metadata": {},
   "outputs": [
    {
     "data": {
      "text/plain": [
       "'1.18.1'"
      ]
     },
     "execution_count": 12,
     "metadata": {},
     "output_type": "execute_result"
    }
   ],
   "source": [
    "import numpy \n",
    "numpy.__version__"
   ]
  },
  {
   "cell_type": "code",
   "execution_count": 10,
   "id": "falling-channel",
   "metadata": {},
   "outputs": [
    {
     "data": {
      "text/plain": [
       "<100x100 sparse matrix of type '<class 'numpy.int64'>'\n",
       "\twith 0 stored elements in COOrdinate format>"
      ]
     },
     "execution_count": 10,
     "metadata": {},
     "output_type": "execute_result"
    }
   ],
   "source": [
    "import scipy, scipy.sparse\n",
    "lil = scipy.sparse.lil_matrix((100, 100), dtype=int)\n",
    "scipy.sparse.triu(lil)\n",
    "\n"
   ]
  },
  {
   "cell_type": "code",
   "execution_count": 11,
   "id": "sustained-steel",
   "metadata": {},
   "outputs": [
    {
     "data": {
      "text/plain": [
       "'1.4.1'"
      ]
     },
     "execution_count": 11,
     "metadata": {},
     "output_type": "execute_result"
    }
   ],
   "source": [
    "scipy.__version__"
   ]
  },
  {
   "cell_type": "code",
   "execution_count": 19,
   "id": "dental-spread",
   "metadata": {},
   "outputs": [
    {
     "data": {
      "text/plain": [
       "'1.0.0'"
      ]
     },
     "execution_count": 19,
     "metadata": {},
     "output_type": "execute_result"
    }
   ],
   "source": [
    "import joblib\n",
    "joblib.__version__"
   ]
  },
  {
   "cell_type": "code",
   "execution_count": 21,
   "id": "legislative-large",
   "metadata": {},
   "outputs": [
    {
     "data": {
      "text/plain": [
       "'0.24.1'"
      ]
     },
     "execution_count": 21,
     "metadata": {},
     "output_type": "execute_result"
    }
   ],
   "source": [
    "import sklearn\n",
    "sklearn.__version__"
   ]
  },
  {
   "cell_type": "code",
   "execution_count": 23,
   "id": "played-buffalo",
   "metadata": {},
   "outputs": [
    {
     "name": "stdout",
     "output_type": "stream",
     "text": [
      "/ext3/miniconda3/bin/python\n"
     ]
    }
   ],
   "source": [
    "!which python"
   ]
  },
  {
   "cell_type": "code",
   "execution_count": null,
   "id": "federal-danish",
   "metadata": {},
   "outputs": [],
   "source": []
  }
 ],
 "metadata": {
  "kernelspec": {
   "display_name": "Python 3",
   "language": "python",
   "name": "python3"
  },
  "language_info": {
   "codemirror_mode": {
    "name": "ipython",
    "version": 3
   },
   "file_extension": ".py",
   "mimetype": "text/x-python",
   "name": "python",
   "nbconvert_exporter": "python",
   "pygments_lexer": "ipython3",
   "version": "3.6.13"
  }
 },
 "nbformat": 4,
 "nbformat_minor": 5
}
